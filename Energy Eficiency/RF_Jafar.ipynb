{
 "cells": [
  {
   "cell_type": "code",
   "execution_count": 2,
   "id": "4e60f8f8-47ea-4322-bd90-c16100d94ebc",
   "metadata": {},
   "outputs": [],
   "source": [
    "import pandas as pd\n",
    "import numpy as np\n",
    "import matplotlib.pyplot as plt\n",
    "import seaborn as sns"
   ]
  },
  {
   "cell_type": "code",
   "execution_count": 3,
   "id": "7bede805-8d22-4ddb-bad1-2c4f63e899b9",
   "metadata": {},
   "outputs": [],
   "source": [
    "df = pd.read_excel('./ENB2012_data.xlsx')"
   ]
  },
  {
   "cell_type": "code",
   "execution_count": 4,
   "id": "1a5dd13b-af38-46c8-a9e4-a8fa1d25f283",
   "metadata": {},
   "outputs": [
    {
     "data": {
      "text/html": [
       "<div>\n",
       "<style scoped>\n",
       "    .dataframe tbody tr th:only-of-type {\n",
       "        vertical-align: middle;\n",
       "    }\n",
       "\n",
       "    .dataframe tbody tr th {\n",
       "        vertical-align: top;\n",
       "    }\n",
       "\n",
       "    .dataframe thead th {\n",
       "        text-align: right;\n",
       "    }\n",
       "</style>\n",
       "<table border=\"1\" class=\"dataframe\">\n",
       "  <thead>\n",
       "    <tr style=\"text-align: right;\">\n",
       "      <th></th>\n",
       "      <th>Relative Compactness</th>\n",
       "      <th>Surface Area</th>\n",
       "      <th>Wall Area</th>\n",
       "      <th>Roof Area</th>\n",
       "      <th>Overall Height</th>\n",
       "      <th>Orientation</th>\n",
       "      <th>Glazing Area</th>\n",
       "      <th>Glazing Area.1</th>\n",
       "      <th>Heating Load</th>\n",
       "      <th>Cooling Load</th>\n",
       "    </tr>\n",
       "  </thead>\n",
       "  <tbody>\n",
       "    <tr>\n",
       "      <th>766</th>\n",
       "      <td>0.62</td>\n",
       "      <td>808.5</td>\n",
       "      <td>367.5</td>\n",
       "      <td>220.50</td>\n",
       "      <td>3.5</td>\n",
       "      <td>4</td>\n",
       "      <td>0.40</td>\n",
       "      <td>5</td>\n",
       "      <td>16.48</td>\n",
       "      <td>16.61</td>\n",
       "    </tr>\n",
       "    <tr>\n",
       "      <th>328</th>\n",
       "      <td>0.64</td>\n",
       "      <td>784.0</td>\n",
       "      <td>343.0</td>\n",
       "      <td>220.50</td>\n",
       "      <td>3.5</td>\n",
       "      <td>2</td>\n",
       "      <td>0.25</td>\n",
       "      <td>1</td>\n",
       "      <td>17.50</td>\n",
       "      <td>21.13</td>\n",
       "    </tr>\n",
       "    <tr>\n",
       "      <th>741</th>\n",
       "      <td>0.76</td>\n",
       "      <td>661.5</td>\n",
       "      <td>416.5</td>\n",
       "      <td>122.50</td>\n",
       "      <td>7.0</td>\n",
       "      <td>3</td>\n",
       "      <td>0.40</td>\n",
       "      <td>5</td>\n",
       "      <td>39.72</td>\n",
       "      <td>39.80</td>\n",
       "    </tr>\n",
       "    <tr>\n",
       "      <th>193</th>\n",
       "      <td>0.98</td>\n",
       "      <td>514.5</td>\n",
       "      <td>294.0</td>\n",
       "      <td>110.25</td>\n",
       "      <td>7.0</td>\n",
       "      <td>3</td>\n",
       "      <td>0.10</td>\n",
       "      <td>4</td>\n",
       "      <td>24.23</td>\n",
       "      <td>25.72</td>\n",
       "    </tr>\n",
       "    <tr>\n",
       "      <th>362</th>\n",
       "      <td>0.74</td>\n",
       "      <td>686.0</td>\n",
       "      <td>245.0</td>\n",
       "      <td>220.50</td>\n",
       "      <td>3.5</td>\n",
       "      <td>4</td>\n",
       "      <td>0.25</td>\n",
       "      <td>2</td>\n",
       "      <td>12.16</td>\n",
       "      <td>15.18</td>\n",
       "    </tr>\n",
       "  </tbody>\n",
       "</table>\n",
       "</div>"
      ],
      "text/plain": [
       "     Relative Compactness  Surface Area  Wall Area  Roof Area  Overall Height  \\\n",
       "766                  0.62         808.5      367.5     220.50             3.5   \n",
       "328                  0.64         784.0      343.0     220.50             3.5   \n",
       "741                  0.76         661.5      416.5     122.50             7.0   \n",
       "193                  0.98         514.5      294.0     110.25             7.0   \n",
       "362                  0.74         686.0      245.0     220.50             3.5   \n",
       "\n",
       "     Orientation  Glazing Area  Glazing Area.1  Heating Load  Cooling Load  \n",
       "766            4          0.40               5         16.48         16.61  \n",
       "328            2          0.25               1         17.50         21.13  \n",
       "741            3          0.40               5         39.72         39.80  \n",
       "193            3          0.10               4         24.23         25.72  \n",
       "362            4          0.25               2         12.16         15.18  "
      ]
     },
     "execution_count": 4,
     "metadata": {},
     "output_type": "execute_result"
    }
   ],
   "source": [
    "df.sample(5)"
   ]
  },
  {
   "cell_type": "code",
   "execution_count": 5,
   "id": "651314aa-3191-456f-ab66-8d4ae66a6562",
   "metadata": {},
   "outputs": [
    {
     "data": {
      "text/html": [
       "<div>\n",
       "<style scoped>\n",
       "    .dataframe tbody tr th:only-of-type {\n",
       "        vertical-align: middle;\n",
       "    }\n",
       "\n",
       "    .dataframe tbody tr th {\n",
       "        vertical-align: top;\n",
       "    }\n",
       "\n",
       "    .dataframe thead th {\n",
       "        text-align: right;\n",
       "    }\n",
       "</style>\n",
       "<table border=\"1\" class=\"dataframe\">\n",
       "  <thead>\n",
       "    <tr style=\"text-align: right;\">\n",
       "      <th></th>\n",
       "      <th>Relative Compactness</th>\n",
       "      <th>Surface Area</th>\n",
       "      <th>Wall Area</th>\n",
       "      <th>Roof Area</th>\n",
       "      <th>Overall Height</th>\n",
       "      <th>Orientation</th>\n",
       "      <th>Glazing Area</th>\n",
       "      <th>Glazing Area.1</th>\n",
       "      <th>Heating Load</th>\n",
       "      <th>Cooling Load</th>\n",
       "    </tr>\n",
       "  </thead>\n",
       "  <tbody>\n",
       "    <tr>\n",
       "      <th>count</th>\n",
       "      <td>768.000000</td>\n",
       "      <td>768.000000</td>\n",
       "      <td>768.000000</td>\n",
       "      <td>768.000000</td>\n",
       "      <td>768.00000</td>\n",
       "      <td>768.000000</td>\n",
       "      <td>768.000000</td>\n",
       "      <td>768.00000</td>\n",
       "      <td>768.000000</td>\n",
       "      <td>768.000000</td>\n",
       "    </tr>\n",
       "    <tr>\n",
       "      <th>mean</th>\n",
       "      <td>0.764167</td>\n",
       "      <td>671.708333</td>\n",
       "      <td>318.500000</td>\n",
       "      <td>176.604167</td>\n",
       "      <td>5.25000</td>\n",
       "      <td>3.500000</td>\n",
       "      <td>0.234375</td>\n",
       "      <td>2.81250</td>\n",
       "      <td>22.307195</td>\n",
       "      <td>24.587760</td>\n",
       "    </tr>\n",
       "    <tr>\n",
       "      <th>std</th>\n",
       "      <td>0.105777</td>\n",
       "      <td>88.086116</td>\n",
       "      <td>43.626481</td>\n",
       "      <td>45.165950</td>\n",
       "      <td>1.75114</td>\n",
       "      <td>1.118763</td>\n",
       "      <td>0.133221</td>\n",
       "      <td>1.55096</td>\n",
       "      <td>10.090204</td>\n",
       "      <td>9.513306</td>\n",
       "    </tr>\n",
       "    <tr>\n",
       "      <th>min</th>\n",
       "      <td>0.620000</td>\n",
       "      <td>514.500000</td>\n",
       "      <td>245.000000</td>\n",
       "      <td>110.250000</td>\n",
       "      <td>3.50000</td>\n",
       "      <td>2.000000</td>\n",
       "      <td>0.000000</td>\n",
       "      <td>0.00000</td>\n",
       "      <td>6.010000</td>\n",
       "      <td>10.900000</td>\n",
       "    </tr>\n",
       "    <tr>\n",
       "      <th>25%</th>\n",
       "      <td>0.682500</td>\n",
       "      <td>606.375000</td>\n",
       "      <td>294.000000</td>\n",
       "      <td>140.875000</td>\n",
       "      <td>3.50000</td>\n",
       "      <td>2.750000</td>\n",
       "      <td>0.100000</td>\n",
       "      <td>1.75000</td>\n",
       "      <td>12.992500</td>\n",
       "      <td>15.620000</td>\n",
       "    </tr>\n",
       "    <tr>\n",
       "      <th>50%</th>\n",
       "      <td>0.750000</td>\n",
       "      <td>673.750000</td>\n",
       "      <td>318.500000</td>\n",
       "      <td>183.750000</td>\n",
       "      <td>5.25000</td>\n",
       "      <td>3.500000</td>\n",
       "      <td>0.250000</td>\n",
       "      <td>3.00000</td>\n",
       "      <td>18.950000</td>\n",
       "      <td>22.080000</td>\n",
       "    </tr>\n",
       "    <tr>\n",
       "      <th>75%</th>\n",
       "      <td>0.830000</td>\n",
       "      <td>741.125000</td>\n",
       "      <td>343.000000</td>\n",
       "      <td>220.500000</td>\n",
       "      <td>7.00000</td>\n",
       "      <td>4.250000</td>\n",
       "      <td>0.400000</td>\n",
       "      <td>4.00000</td>\n",
       "      <td>31.667500</td>\n",
       "      <td>33.132500</td>\n",
       "    </tr>\n",
       "    <tr>\n",
       "      <th>max</th>\n",
       "      <td>0.980000</td>\n",
       "      <td>808.500000</td>\n",
       "      <td>416.500000</td>\n",
       "      <td>220.500000</td>\n",
       "      <td>7.00000</td>\n",
       "      <td>5.000000</td>\n",
       "      <td>0.400000</td>\n",
       "      <td>5.00000</td>\n",
       "      <td>43.100000</td>\n",
       "      <td>48.030000</td>\n",
       "    </tr>\n",
       "  </tbody>\n",
       "</table>\n",
       "</div>"
      ],
      "text/plain": [
       "       Relative Compactness  Surface Area   Wall Area   Roof Area  \\\n",
       "count            768.000000    768.000000  768.000000  768.000000   \n",
       "mean               0.764167    671.708333  318.500000  176.604167   \n",
       "std                0.105777     88.086116   43.626481   45.165950   \n",
       "min                0.620000    514.500000  245.000000  110.250000   \n",
       "25%                0.682500    606.375000  294.000000  140.875000   \n",
       "50%                0.750000    673.750000  318.500000  183.750000   \n",
       "75%                0.830000    741.125000  343.000000  220.500000   \n",
       "max                0.980000    808.500000  416.500000  220.500000   \n",
       "\n",
       "       Overall Height  Orientation  Glazing Area  Glazing Area.1  \\\n",
       "count       768.00000   768.000000    768.000000       768.00000   \n",
       "mean          5.25000     3.500000      0.234375         2.81250   \n",
       "std           1.75114     1.118763      0.133221         1.55096   \n",
       "min           3.50000     2.000000      0.000000         0.00000   \n",
       "25%           3.50000     2.750000      0.100000         1.75000   \n",
       "50%           5.25000     3.500000      0.250000         3.00000   \n",
       "75%           7.00000     4.250000      0.400000         4.00000   \n",
       "max           7.00000     5.000000      0.400000         5.00000   \n",
       "\n",
       "       Heating Load  Cooling Load  \n",
       "count    768.000000    768.000000  \n",
       "mean      22.307195     24.587760  \n",
       "std       10.090204      9.513306  \n",
       "min        6.010000     10.900000  \n",
       "25%       12.992500     15.620000  \n",
       "50%       18.950000     22.080000  \n",
       "75%       31.667500     33.132500  \n",
       "max       43.100000     48.030000  "
      ]
     },
     "execution_count": 5,
     "metadata": {},
     "output_type": "execute_result"
    }
   ],
   "source": [
    "df.describe()"
   ]
  },
  {
   "cell_type": "code",
   "execution_count": 6,
   "id": "6833a23b-9bb0-486a-9c88-a80631205954",
   "metadata": {},
   "outputs": [
    {
     "name": "stdout",
     "output_type": "stream",
     "text": [
      "<class 'pandas.core.frame.DataFrame'>\n",
      "RangeIndex: 768 entries, 0 to 767\n",
      "Data columns (total 10 columns):\n",
      " #   Column                Non-Null Count  Dtype  \n",
      "---  ------                --------------  -----  \n",
      " 0   Relative Compactness  768 non-null    float64\n",
      " 1   Surface Area          768 non-null    float64\n",
      " 2   Wall Area             768 non-null    float64\n",
      " 3   Roof Area             768 non-null    float64\n",
      " 4   Overall Height        768 non-null    float64\n",
      " 5   Orientation           768 non-null    int64  \n",
      " 6   Glazing Area          768 non-null    float64\n",
      " 7   Glazing Area.1        768 non-null    int64  \n",
      " 8   Heating Load          768 non-null    float64\n",
      " 9   Cooling Load          768 non-null    float64\n",
      "dtypes: float64(8), int64(2)\n",
      "memory usage: 60.1 KB\n"
     ]
    }
   ],
   "source": [
    "df.info()"
   ]
  },
  {
   "cell_type": "markdown",
   "id": "91995a02-da50-4abd-9a31-f9c0606ccff7",
   "metadata": {},
   "source": [
    "#### Pisahin data test & train"
   ]
  },
  {
   "cell_type": "code",
   "execution_count": 7,
   "id": "63abfa94-6a4f-4f9e-8803-b2176baa6841",
   "metadata": {},
   "outputs": [],
   "source": [
    "x = df.drop(['Heating Load', 'Cooling Load'], axis=1)\n",
    "yHeating = df[['Heating Load']]\n",
    "yCooling = df[['Cooling Load']]"
   ]
  },
  {
   "cell_type": "markdown",
   "id": "9d0cf9d7-7be1-4310-874b-b217e6a3a36d",
   "metadata": {},
   "source": [
    "#### preparation untuk prediksi Heating Load & Cooling Load"
   ]
  },
  {
   "cell_type": "code",
   "execution_count": 8,
   "id": "981b9656-f135-44e2-94cb-f0eace5aa7f1",
   "metadata": {},
   "outputs": [],
   "source": [
    "from sklearn.model_selection import train_test_split\n",
    "\n",
    "## Heating Load\n",
    "xTrain, xTest, yTrain, yTest = train_test_split(x, yHeating, test_size =0.2, random_state = 9)\n",
    "\n",
    "## Cooling Load\n",
    "xTrain, xTest, yTrain2, yTest2 = train_test_split(x, yCooling, test_size=0.2, random_state= 9)"
   ]
  },
  {
   "cell_type": "markdown",
   "id": "52ec6014-1ca9-4a6f-b3ef-420a77d7d9e7",
   "metadata": {},
   "source": [
    "#### MOdeling 1"
   ]
  },
  {
   "cell_type": "code",
   "execution_count": 9,
   "id": "d5e29746-eec4-4e58-b572-3d2d34ced17f",
   "metadata": {},
   "outputs": [],
   "source": [
    "from sklearn.ensemble import RandomForestRegressor\n",
    "from sklearn.model_selection import GridSearchCV\n",
    "from sklearn.metrics import mean_absolute_error\n",
    "\n",
    "model = RandomForestRegressor(random_state=42)\n"
   ]
  },
  {
   "cell_type": "markdown",
   "id": "677d5299-fac2-4185-93f1-d79ee25be77f",
   "metadata": {},
   "source": [
    "#### Modeling  parameter default"
   ]
  },
  {
   "cell_type": "markdown",
   "id": "2bcc60a8-445c-4a11-b60d-06d5add432a6",
   "metadata": {},
   "source": [
    "##### prediksi Heating Load"
   ]
  },
  {
   "cell_type": "code",
   "execution_count": 10,
   "id": "61e4e0a4-1040-4b52-bcfa-9d9f8bca0baf",
   "metadata": {},
   "outputs": [],
   "source": [
    "## train model\n",
    "yTrainmodelHeating = np.array(yTrain)\n",
    "yTrainmodelHeating = yTrainmodelHeating.reshape(-1)\n",
    "modelHeating1 = model.fit(xTrain, yTrainmodelHeating)"
   ]
  },
  {
   "cell_type": "code",
   "execution_count": 11,
   "id": "dee4b444-f15d-41a3-bd08-bdac86df5f3e",
   "metadata": {},
   "outputs": [
    {
     "name": "stdout",
     "output_type": "stream",
     "text": [
      "MAE : 0.3277811688311696\n"
     ]
    }
   ],
   "source": [
    "### prediksi heating load\n",
    "ypredHeating1 = modelHeating1.predict(xTest)\n",
    "mae = mean_absolute_error(yTest, ypredHeating1)\n",
    "print(f'MAE : {mae}')"
   ]
  },
  {
   "cell_type": "markdown",
   "id": "76a376c7-0b47-4073-bff1-f50d1574d4ee",
   "metadata": {},
   "source": [
    "##### Prediksi Cooling Load"
   ]
  },
  {
   "cell_type": "code",
   "execution_count": 12,
   "id": "fa61419f-9047-4d25-97b5-089f00a53110",
   "metadata": {},
   "outputs": [],
   "source": [
    "### train model\n",
    "\n",
    "yTrainCooling = np.array(yTrain2)\n",
    "yTrainCooling = yTrainCooling.reshape(-1)\n",
    "modelCooling1 = model.fit(xTrain, yTrainCooling)"
   ]
  },
  {
   "cell_type": "code",
   "execution_count": 13,
   "id": "ea63b015-bf74-46e2-8642-cbef915bb5a4",
   "metadata": {},
   "outputs": [
    {
     "name": "stdout",
     "output_type": "stream",
     "text": [
      "MAE : 1.0072727272727224\n"
     ]
    }
   ],
   "source": [
    "### prediksi cooling load\n",
    "ypredCooling1 = modelCooling1.predict(xTest)\n",
    "mae = mean_absolute_error(yTest2, ypredCooling1)\n",
    "print(f'MAE : {mae}')"
   ]
  },
  {
   "cell_type": "markdown",
   "id": "0afb059f-feeb-4665-b6db-9a64fd187329",
   "metadata": {},
   "source": [
    "#### Model dengan parameter"
   ]
  },
  {
   "cell_type": "code",
   "execution_count": 14,
   "id": "11c76d15-01d8-4506-b6b0-f82d771109c7",
   "metadata": {},
   "outputs": [],
   "source": [
    "param_grid = {\n",
    "    'max_depth': [3, 5, 10, None],\n",
    "    'min_samples_split': [2, 10, 20],\n",
    "    'min_samples_leaf': [1, 5, 10],\n",
    "    'max_features': [None, 'sqrt', 'log2'],\n",
    "    'max_leaf_nodes': [None, 5, 10, 20],\n",
    "    # 'criterion': ['squared_error', 'friedman_mse', 'absolute_error', 'poisson']\n",
    "}\n",
    "\n",
    "grid_search = GridSearchCV(estimator=model, param_grid=param_grid, cv=5, scoring='neg_mean_squared_error', n_jobs=-1)"
   ]
  },
  {
   "cell_type": "markdown",
   "id": "12ac9ba7-68a0-4b32-bdd2-2aa0d4e2dbd1",
   "metadata": {},
   "source": [
    "##### Prediksi Heating Load"
   ]
  },
  {
   "cell_type": "code",
   "execution_count": 15,
   "id": "e651ed81-1e5f-4e10-89f9-130b74bcf204",
   "metadata": {},
   "outputs": [
    {
     "name": "stdout",
     "output_type": "stream",
     "text": [
      "parameter terdabes : {'max_depth': None, 'max_features': None, 'max_leaf_nodes': None, 'min_samples_leaf': 1, 'min_samples_split': 2}\n",
      "\n",
      " score terdabes : -0.24077494536425254\n",
      "\n",
      " score terdabes : RandomForestRegressor(max_features=None, random_state=42)\n"
     ]
    }
   ],
   "source": [
    "grid_search.fit(xTrain, yTrainmodelHeating)\n",
    "print(f'parameter terdabes : {grid_search.best_params_}')\n",
    "print(f'\\n score terdabes : {grid_search.best_score_}')\n",
    "print(f'\\n score terdabes : {grid_search.best_estimator_}')"
   ]
  },
  {
   "cell_type": "code",
   "execution_count": 16,
   "id": "00b3464f-aea3-4be2-b65f-760e8a149a1d",
   "metadata": {},
   "outputs": [
    {
     "ename": "NameError",
     "evalue": "name 'modelgue' is not defined",
     "output_type": "error",
     "traceback": [
      "\u001b[1;31m---------------------------------------------------------------------------\u001b[0m",
      "\u001b[1;31mNameError\u001b[0m                                 Traceback (most recent call last)",
      "Cell \u001b[1;32mIn[16], line 1\u001b[0m\n\u001b[1;32m----> 1\u001b[0m modelgue\u001b[38;5;241m.\u001b[39mfit(xTrain,yTrainmodelHeating)\n",
      "\u001b[1;31mNameError\u001b[0m: name 'modelgue' is not defined"
     ]
    }
   ],
   "source": [
    "modelgue.fit(xTrain,yTrainmodelHeating)"
   ]
  },
  {
   "cell_type": "code",
   "execution_count": null,
   "id": "b90215b7-a6b6-4a4f-bd02-a4403529a29c",
   "metadata": {},
   "outputs": [
    {
     "name": "stdout",
     "output_type": "stream",
     "text": [
      "mae : 0.3277811688311696\n"
     ]
    }
   ],
   "source": [
    "modelgue = grid_search.best_estimator_\n",
    "prediksi = modelgue.predict(xTest)\n",
    "mae = mean_absolute_error(yTest, prediksi)\n",
    "print(f'mae : {mae}')\n"
   ]
  },
  {
   "cell_type": "markdown",
   "id": "141357a9-f479-47ce-8970-9285c9fb0ed2",
   "metadata": {},
   "source": [
    "##### Prediksi Cooling Load    "
   ]
  },
  {
   "cell_type": "code",
   "execution_count": null,
   "id": "ddbb27e5-d728-4030-b0ec-6885179cdbc8",
   "metadata": {},
   "outputs": [
    {
     "name": "stdout",
     "output_type": "stream",
     "text": [
      "parameter terdabes : {'max_depth': 10, 'max_features': 'sqrt', 'max_leaf_nodes': None, 'min_samples_leaf': 1, 'min_samples_split': 2}\n",
      "\n",
      " score terdabes : -2.618217933687841\n",
      "\n",
      " score terdabes : RandomForestRegressor(max_depth=10, max_features='sqrt', random_state=42)\n"
     ]
    }
   ],
   "source": [
    "grid_search.fit(xTrain, yTrainCooling)\n",
    "print(f'parameter terdabes : {grid_search.best_params_}')\n",
    "print(f'\\n score terdabes : {grid_search.best_score_}')\n",
    "print(f'\\n score terdabes : {grid_search.best_estimator_}')"
   ]
  },
  {
   "cell_type": "code",
   "execution_count": null,
   "id": "c9d2194f-a1a9-4134-bf66-df14b6f89dcd",
   "metadata": {},
   "outputs": [
    {
     "name": "stdout",
     "output_type": "stream",
     "text": [
      "mae : 2.6286758174658105\n"
     ]
    }
   ],
   "source": [
    "modelgue2 = grid_search.best_estimator_\n",
    "prediksi2  = modelgue2.predict(xTest)\n",
    "mae2 = mean_absolute_error(yTest, prediksi2)\n",
    "print(f'mae : {mae2}')"
   ]
  },
  {
   "cell_type": "code",
   "execution_count": null,
   "id": "8b22ca8c-3f9c-4d29-8bb1-d4830b2b60b0",
   "metadata": {},
   "outputs": [],
   "source": [
    "prediksi2 = pd.DataFrame(prediksi2)\n",
    "prediksi = pd.DataFrame(prediksi)"
   ]
  },
  {
   "cell_type": "code",
   "execution_count": null,
   "id": "1088fe41-cdd0-4f81-940f-f58941d54cc4",
   "metadata": {},
   "outputs": [
    {
     "ename": "KeyError",
     "evalue": "(slice(None, None, None), 0)",
     "output_type": "error",
     "traceback": [
      "\u001b[1;31m---------------------------------------------------------------------------\u001b[0m",
      "\u001b[1;31mKeyError\u001b[0m                                  Traceback (most recent call last)",
      "Cell \u001b[1;32mIn[32], line 2\u001b[0m\n\u001b[0;32m      1\u001b[0m plt\u001b[38;5;241m.\u001b[39mfigure(figsize\u001b[38;5;241m=\u001b[39m(\u001b[38;5;241m10\u001b[39m, \u001b[38;5;241m6\u001b[39m))\n\u001b[1;32m----> 2\u001b[0m plt\u001b[38;5;241m.\u001b[39mscatter(yTest[\u001b[38;5;124m'\u001b[39m\u001b[38;5;124mHeating Load\u001b[39m\u001b[38;5;124m'\u001b[39m], prediksi[:, \u001b[38;5;241m0\u001b[39m], alpha\u001b[38;5;241m=\u001b[39m\u001b[38;5;241m0.5\u001b[39m, label\u001b[38;5;241m=\u001b[39m\u001b[38;5;124m'\u001b[39m\u001b[38;5;124mHeating Load\u001b[39m\u001b[38;5;124m'\u001b[39m)\n\u001b[0;32m      3\u001b[0m plt\u001b[38;5;241m.\u001b[39mscatter(yTest[\u001b[38;5;124m'\u001b[39m\u001b[38;5;124mCooling Load\u001b[39m\u001b[38;5;124m'\u001b[39m], prediksi2[:, \u001b[38;5;241m1\u001b[39m], alpha\u001b[38;5;241m=\u001b[39m\u001b[38;5;241m0.5\u001b[39m, label\u001b[38;5;241m=\u001b[39m\u001b[38;5;124m'\u001b[39m\u001b[38;5;124mCooling Load\u001b[39m\u001b[38;5;124m'\u001b[39m, color\u001b[38;5;241m=\u001b[39m\u001b[38;5;124m'\u001b[39m\u001b[38;5;124mr\u001b[39m\u001b[38;5;124m'\u001b[39m)\n\u001b[0;32m      4\u001b[0m plt\u001b[38;5;241m.\u001b[39mplot([\u001b[38;5;241m0\u001b[39m, \u001b[38;5;241m50\u001b[39m], [\u001b[38;5;241m0\u001b[39m, \u001b[38;5;241m50\u001b[39m], \u001b[38;5;124m'\u001b[39m\u001b[38;5;124m--k\u001b[39m\u001b[38;5;124m'\u001b[39m)\n",
      "File \u001b[1;32m~\\DataScience\\anaconda3\\Lib\\site-packages\\pandas\\core\\frame.py:3893\u001b[0m, in \u001b[0;36mDataFrame.__getitem__\u001b[1;34m(self, key)\u001b[0m\n\u001b[0;32m   3891\u001b[0m \u001b[38;5;28;01mif\u001b[39;00m \u001b[38;5;28mself\u001b[39m\u001b[38;5;241m.\u001b[39mcolumns\u001b[38;5;241m.\u001b[39mnlevels \u001b[38;5;241m>\u001b[39m \u001b[38;5;241m1\u001b[39m:\n\u001b[0;32m   3892\u001b[0m     \u001b[38;5;28;01mreturn\u001b[39;00m \u001b[38;5;28mself\u001b[39m\u001b[38;5;241m.\u001b[39m_getitem_multilevel(key)\n\u001b[1;32m-> 3893\u001b[0m indexer \u001b[38;5;241m=\u001b[39m \u001b[38;5;28mself\u001b[39m\u001b[38;5;241m.\u001b[39mcolumns\u001b[38;5;241m.\u001b[39mget_loc(key)\n\u001b[0;32m   3894\u001b[0m \u001b[38;5;28;01mif\u001b[39;00m is_integer(indexer):\n\u001b[0;32m   3895\u001b[0m     indexer \u001b[38;5;241m=\u001b[39m [indexer]\n",
      "File \u001b[1;32m~\\DataScience\\anaconda3\\Lib\\site-packages\\pandas\\core\\indexes\\range.py:418\u001b[0m, in \u001b[0;36mRangeIndex.get_loc\u001b[1;34m(self, key)\u001b[0m\n\u001b[0;32m    416\u001b[0m         \u001b[38;5;28;01mraise\u001b[39;00m \u001b[38;5;167;01mKeyError\u001b[39;00m(key) \u001b[38;5;28;01mfrom\u001b[39;00m \u001b[38;5;21;01merr\u001b[39;00m\n\u001b[0;32m    417\u001b[0m \u001b[38;5;28;01mif\u001b[39;00m \u001b[38;5;28misinstance\u001b[39m(key, Hashable):\n\u001b[1;32m--> 418\u001b[0m     \u001b[38;5;28;01mraise\u001b[39;00m \u001b[38;5;167;01mKeyError\u001b[39;00m(key)\n\u001b[0;32m    419\u001b[0m \u001b[38;5;28mself\u001b[39m\u001b[38;5;241m.\u001b[39m_check_indexing_error(key)\n\u001b[0;32m    420\u001b[0m \u001b[38;5;28;01mraise\u001b[39;00m \u001b[38;5;167;01mKeyError\u001b[39;00m(key)\n",
      "\u001b[1;31mKeyError\u001b[0m: (slice(None, None, None), 0)"
     ]
    },
    {
     "data": {
      "text/plain": [
       "<Figure size 1000x600 with 0 Axes>"
      ]
     },
     "metadata": {},
     "output_type": "display_data"
    }
   ],
   "source": [
    "plt.figure(figsize=(10, 6))\n",
    "plt.scatter(yTest['Heating Load'], prediksi[:, 0], alpha=0.5, label='Heating Load')\n",
    "plt.scatter(yTest['Cooling Load'], prediksi2[:, 1], alpha=0.5, label='Cooling Load', color='r')\n",
    "plt.plot([0, 50], [0, 50], '--k')\n",
    "plt.xlabel('Actual')\n",
    "plt.ylabel('Predicted')\n",
    "plt.legend()\n",
    "plt.title('Actual vs Predicted')\n",
    "plt.show()"
   ]
  }
 ],
 "metadata": {
  "kernelspec": {
   "display_name": "Python 3 (ipykernel)",
   "language": "python",
   "name": "python3"
  },
  "language_info": {
   "codemirror_mode": {
    "name": "ipython",
    "version": 3
   },
   "file_extension": ".py",
   "mimetype": "text/x-python",
   "name": "python",
   "nbconvert_exporter": "python",
   "pygments_lexer": "ipython3",
   "version": "3.11.9"
  }
 },
 "nbformat": 4,
 "nbformat_minor": 5
}
