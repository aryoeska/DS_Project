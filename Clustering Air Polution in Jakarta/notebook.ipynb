{
 "cells": [
  {
   "cell_type": "markdown",
   "metadata": {},
   "source": [
    "# Prediksi dan Clustering Polusi Udara di Jakarta"
   ]
  },
  {
   "cell_type": "markdown",
   "metadata": {},
   "source": [
    "## Dataset\n",
    "\n",
    "| Kolom | Deskripsi |\n",
    "|--------|-------------|\n",
    "| `tanggal` | Tanggal pengambilan kualitas udara (YYYY-MM-DD) |\n",
    "| `stasiun` | Stasiun pemantauan kualitas udara |\n",
    "| `pm10` | Konsentrasi partikel udara yang berdiameter kurang dari 10 mikrometer (µg/m³) |\n",
    "| `so2` | Konsentrasi sulfur dioksida di udara (µg/m³) |\n",
    "| `co` | Konsentrasi karbon monoksida di udara (µg/m³) |\n",
    "| `o3` | Konsentrasi ozon di permukaan tanah (µg/m³) |\n",
    "| `no2` | Konsentrasi nitrogen dioksida di udara (µg/m³) | \n",
    "| `max` | Nilai maksimum dari konsentrasi polutan |\n",
    "| `critical` | Polutan yang mencapai nilai maksimum |\n",
    "| `categori` | Kategori kualitas udara berdasarkan konsentrasi polutan yang ada |"
   ]
  },
  {
   "cell_type": "code",
   "execution_count": 5,
   "metadata": {},
   "outputs": [],
   "source": [
    "import pandas as pd\n",
    "import numpy as np\n",
    "import matplotlib.pyplot as plt"
   ]
  },
  {
   "cell_type": "code",
   "execution_count": 3,
   "metadata": {},
   "outputs": [
    {
     "data": {
      "text/html": [
       "<div>\n",
       "<style scoped>\n",
       "    .dataframe tbody tr th:only-of-type {\n",
       "        vertical-align: middle;\n",
       "    }\n",
       "\n",
       "    .dataframe tbody tr th {\n",
       "        vertical-align: top;\n",
       "    }\n",
       "\n",
       "    .dataframe thead th {\n",
       "        text-align: right;\n",
       "    }\n",
       "</style>\n",
       "<table border=\"1\" class=\"dataframe\">\n",
       "  <thead>\n",
       "    <tr style=\"text-align: right;\">\n",
       "      <th></th>\n",
       "      <th>tanggal</th>\n",
       "      <th>stasiun</th>\n",
       "      <th>pm10</th>\n",
       "      <th>so2</th>\n",
       "      <th>co</th>\n",
       "      <th>o3</th>\n",
       "      <th>no2</th>\n",
       "      <th>max</th>\n",
       "      <th>critical</th>\n",
       "      <th>categori</th>\n",
       "    </tr>\n",
       "  </thead>\n",
       "  <tbody>\n",
       "    <tr>\n",
       "      <th>0</th>\n",
       "      <td>2020-01-01</td>\n",
       "      <td>DKI1 (Bunderan HI)</td>\n",
       "      <td>30</td>\n",
       "      <td>20</td>\n",
       "      <td>10</td>\n",
       "      <td>32</td>\n",
       "      <td>9</td>\n",
       "      <td>32.0</td>\n",
       "      <td>O3</td>\n",
       "      <td>BAIK</td>\n",
       "    </tr>\n",
       "    <tr>\n",
       "      <th>1</th>\n",
       "      <td>2020-01-02</td>\n",
       "      <td>DKI1 (Bunderan HI)</td>\n",
       "      <td>27</td>\n",
       "      <td>22</td>\n",
       "      <td>12</td>\n",
       "      <td>29</td>\n",
       "      <td>8</td>\n",
       "      <td>29.0</td>\n",
       "      <td>O3</td>\n",
       "      <td>BAIK</td>\n",
       "    </tr>\n",
       "    <tr>\n",
       "      <th>2</th>\n",
       "      <td>2020-01-03</td>\n",
       "      <td>DKI1 (Bunderan HI)</td>\n",
       "      <td>39</td>\n",
       "      <td>22</td>\n",
       "      <td>14</td>\n",
       "      <td>32</td>\n",
       "      <td>10</td>\n",
       "      <td>39.0</td>\n",
       "      <td>PM10</td>\n",
       "      <td>BAIK</td>\n",
       "    </tr>\n",
       "    <tr>\n",
       "      <th>3</th>\n",
       "      <td>2020-01-04</td>\n",
       "      <td>DKI1 (Bunderan HI)</td>\n",
       "      <td>34</td>\n",
       "      <td>22</td>\n",
       "      <td>14</td>\n",
       "      <td>38</td>\n",
       "      <td>10</td>\n",
       "      <td>38.0</td>\n",
       "      <td>O3</td>\n",
       "      <td>BAIK</td>\n",
       "    </tr>\n",
       "    <tr>\n",
       "      <th>4</th>\n",
       "      <td>2020-01-05</td>\n",
       "      <td>DKI1 (Bunderan HI)</td>\n",
       "      <td>35</td>\n",
       "      <td>22</td>\n",
       "      <td>12</td>\n",
       "      <td>31</td>\n",
       "      <td>9</td>\n",
       "      <td>35.0</td>\n",
       "      <td>PM10</td>\n",
       "      <td>BAIK</td>\n",
       "    </tr>\n",
       "  </tbody>\n",
       "</table>\n",
       "</div>"
      ],
      "text/plain": [
       "      tanggal             stasiun pm10 so2  co  o3 no2   max critical categori\n",
       "0  2020-01-01  DKI1 (Bunderan HI)   30  20  10  32   9  32.0       O3     BAIK\n",
       "1  2020-01-02  DKI1 (Bunderan HI)   27  22  12  29   8  29.0       O3     BAIK\n",
       "2  2020-01-03  DKI1 (Bunderan HI)   39  22  14  32  10  39.0     PM10     BAIK\n",
       "3  2020-01-04  DKI1 (Bunderan HI)   34  22  14  38  10  38.0       O3     BAIK\n",
       "4  2020-01-05  DKI1 (Bunderan HI)   35  22  12  31   9  35.0     PM10     BAIK"
      ]
     },
     "execution_count": 3,
     "metadata": {},
     "output_type": "execute_result"
    }
   ],
   "source": [
    "df = pd.read_csv('./indeks-standar-pencemar-udara-di-spku-dataset.csv')\n",
    "df.head()"
   ]
  },
  {
   "cell_type": "code",
   "execution_count": 4,
   "metadata": {},
   "outputs": [
    {
     "data": {
      "text/plain": [
       "(1830, 10)"
      ]
     },
     "execution_count": 4,
     "metadata": {},
     "output_type": "execute_result"
    }
   ],
   "source": [
    "df.shape"
   ]
  },
  {
   "cell_type": "code",
   "execution_count": 6,
   "metadata": {},
   "outputs": [
    {
     "name": "stdout",
     "output_type": "stream",
     "text": [
      "<class 'pandas.core.frame.DataFrame'>\n",
      "RangeIndex: 1830 entries, 0 to 1829\n",
      "Data columns (total 10 columns):\n",
      " #   Column    Non-Null Count  Dtype  \n",
      "---  ------    --------------  -----  \n",
      " 0   tanggal   1830 non-null   object \n",
      " 1   stasiun   1830 non-null   object \n",
      " 2   pm10      1830 non-null   object \n",
      " 3   so2       1830 non-null   object \n",
      " 4   co        1830 non-null   object \n",
      " 5   o3        1830 non-null   object \n",
      " 6   no2       1830 non-null   object \n",
      " 7   max       1826 non-null   float64\n",
      " 8   critical  1814 non-null   object \n",
      " 9   categori  1830 non-null   object \n",
      "dtypes: float64(1), object(9)\n",
      "memory usage: 143.1+ KB\n"
     ]
    }
   ],
   "source": [
    "df.info()"
   ]
  },
  {
   "cell_type": "code",
   "execution_count": 10,
   "metadata": {},
   "outputs": [
    {
     "data": {
      "text/plain": [
       "DKI1 (Bunderan HI)                  335\n",
       "DKI3 (Jagakarsa)                    335\n",
       "DKI4 (Lubang Buaya)                 335\n",
       "DKI5 (Kebon Jeruk) Jakarta Barat    335\n",
       "DKI2 (Kelapa Gading)                335\n",
       "43                                   10\n",
       "40                                    8\n",
       "54                                    8\n",
       "34                                    8\n",
       "44                                    7\n",
       "50                                    6\n",
       "51                                    6\n",
       "45                                    6\n",
       "48                                    5\n",
       "53                                    5\n",
       "56                                    5\n",
       "62                                    4\n",
       "59                                    4\n",
       "65                                    4\n",
       "58                                    4\n",
       "49                                    3\n",
       "47                                    3\n",
       "32                                    3\n",
       "39                                    3\n",
       "52                                    3\n",
       "---                                   3\n",
       "35                                    3\n",
       "38                                    3\n",
       "42                                    3\n",
       "74                                    2\n",
       "70                                    2\n",
       "69                                    2\n",
       "78                                    2\n",
       "22                                    2\n",
       "66                                    2\n",
       "27                                    2\n",
       "71                                    2\n",
       "30                                    2\n",
       "55                                    2\n",
       "33                                    2\n",
       "37                                    2\n",
       "36                                    2\n",
       "63                                    1\n",
       "57                                    1\n",
       "24                                    1\n",
       "64                                    1\n",
       "73                                    1\n",
       "89                                    1\n",
       "101                                   1\n",
       "60                                    1\n",
       "41                                    1\n",
       "76                                    1\n",
       "61                                    1\n",
       "25                                    1\n",
       "Name: stasiun, dtype: int64"
      ]
     },
     "execution_count": 10,
     "metadata": {},
     "output_type": "execute_result"
    }
   ],
   "source": [
    "df['stasiun'].value_counts()"
   ]
  },
  {
   "cell_type": "code",
   "execution_count": 11,
   "metadata": {},
   "outputs": [
    {
     "data": {
      "text/plain": [
       "O3      856\n",
       "PM10    506\n",
       "PM25    271\n",
       "CO      165\n",
       "SO2      15\n",
       "NO2       1\n",
       "Name: critical, dtype: int64"
      ]
     },
     "execution_count": 11,
     "metadata": {},
     "output_type": "execute_result"
    }
   ],
   "source": [
    "df['critical'].value_counts()"
   ]
  },
  {
   "cell_type": "code",
   "execution_count": null,
   "metadata": {},
   "outputs": [],
   "source": []
  }
 ],
 "metadata": {
  "kernelspec": {
   "display_name": "base",
   "language": "python",
   "name": "python3"
  },
  "language_info": {
   "codemirror_mode": {
    "name": "ipython",
    "version": 3
   },
   "file_extension": ".py",
   "mimetype": "text/x-python",
   "name": "python",
   "nbconvert_exporter": "python",
   "pygments_lexer": "ipython3",
   "version": "3.11.4"
  }
 },
 "nbformat": 4,
 "nbformat_minor": 2
}
